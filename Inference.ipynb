{
 "cells": [
  {
   "cell_type": "code",
   "execution_count": 5,
   "id": "e79c0b91-b419-42a3-bd3d-ce9932f01f2c",
   "metadata": {
    "tags": []
   },
   "outputs": [],
   "source": [
    "import warnings\n",
    "warnings.filterwarnings('ignore')\n",
    "import os\n",
    "import monai\n",
    "import torch\n",
    "import numpy as np\n",
    "import pandas as pd\n",
    "import tqdm as tqdm\n",
    "from monai.data import decollate_batch\n",
    "from torch.utils.data import DataLoader\n",
    "from monai.metrics import ROCAUCMetric\n",
    "from monai.utils import set_determinism\n",
    "import matplotlib.pyplot as plt\n",
    "import PIL\n",
    "from monai.transforms import LoadImage, Resize, NormalizeIntensity,RandRotate,RandFlip,RandZoom,Compose,Activations, AsDiscrete,EnsureChannelFirst\n",
    "from monai.networks.nets import DenseNet121\n",
    "import torchvision.transforms as transforms\n",
    "import pydicom\n",
    "from sklearn.metrics import confusion_matrix,roc_auc_score,classification_report\n",
    "import seaborn as sns\n",
    "from sklearn.model_selection import train_test_split"
   ]
  },
  {
   "cell_type": "code",
   "execution_count": 6,
   "id": "207ec5c4-9457-4b2e-8268-d6bb9f896330",
   "metadata": {
    "tags": []
   },
   "outputs": [],
   "source": [
    "set_determinism(seed = 1234)\n",
    "data_dir  = \"/mnt/databaseRICERCA_SDN/ONWAY/PACS/Classificazione/dcm/test/\"\n",
    "image_files = [os.path.join(data_dir,x) for x in os.listdir(data_dir)]"
   ]
  },
  {
   "cell_type": "code",
   "execution_count": 11,
   "id": "3246a2c6-eef5-4208-be9c-a4c8fd4a8210",
   "metadata": {
    "tags": []
   },
   "outputs": [],
   "source": [
    "val_transforms = Compose([LoadImage(image_only=True),EnsureChannelFirst() ,NormalizeIntensity(),Resize((256,256))])\n",
    "y_pred_trans = Compose([Activations(softmax=True)])\n",
    "y_trans = Compose([AsDiscrete(to_onehot=2)])\n",
    "\n",
    "class BrainClassificationDatasetinference(torch.utils.data.Dataset):\n",
    "    def __init__(self, image_files, transforms):\n",
    "        self.image_files = image_files\n",
    "        \n",
    "        self.transforms = transforms\n",
    "\n",
    "    def __len__(self):\n",
    "        return len(self.image_files)\n",
    "\n",
    "    def __getitem__(self, index):\n",
    "        return self.transforms(self.image_files[index])\n",
    "\n",
    "    \n",
    "test_ds = BrainClassificationDatasetinference(image_files,val_transforms)\n",
    "test_loader = DataLoader(test_ds, batch_size=20,num_workers=5)"
   ]
  },
  {
   "cell_type": "code",
   "execution_count": 26,
   "id": "e3f01b0f-b663-407d-8f0f-d5fddb6e3ee3",
   "metadata": {
    "tags": []
   },
   "outputs": [
    {
     "name": "stdout",
     "output_type": "stream",
     "text": [
      "Images batch shape: (20, 1, 256, 256)\n"
     ]
    }
   ],
   "source": [
    "test_images = next(iter(test_loader))\n",
    "print(f\"Images batch shape: {test_images.size()}\")\n"
   ]
  },
  {
   "cell_type": "code",
   "execution_count": 12,
   "id": "aa2a90fc-e66f-4c77-928e-d62f34b346bf",
   "metadata": {
    "tags": []
   },
   "outputs": [],
   "source": [
    "device = torch.device(\"cuda\" if torch.cuda.is_available() else \"cpu\")\n",
    "model = DenseNet121(spatial_dims=2, in_channels=1, out_channels=2).to(device)"
   ]
  },
  {
   "cell_type": "code",
   "execution_count": 41,
   "id": "ea1ab2fc-ff39-4de9-bf29-e49be7662d07",
   "metadata": {
    "tags": []
   },
   "outputs": [],
   "source": [
    "name  = list()\n",
    "prediction  = list ()\n",
    "root_dir = \"./model_weight/\"\n",
    "model.load_state_dict(torch.load(os.path.join(root_dir, \"best_metric_model.pth\")))\n",
    "model.eval()\n",
    "with torch.no_grad():\n",
    "    for test_data in test_loader:\n",
    "        test_images = (test_data.to(device))\n",
    "        pred = model(test_images).argmax(dim=1)\n",
    "        for i in range(len(pred)):\n",
    "            prediction.append(pred[i].item())\n",
    "            name.append(pred[i].meta[\"filename_or_obj\"])\n"
   ]
  },
  {
   "cell_type": "code",
   "execution_count": 51,
   "id": "61800bf0-8e5c-441c-8d21-0c8df2874d71",
   "metadata": {
    "tags": []
   },
   "outputs": [],
   "source": [
    "predizioni = {\n",
    "    \"path\" : name ,\n",
    "    \"predizione\" : prediction\n",
    "}\n",
    "\n",
    "df  = pd.DataFrame.from_dict(predizioni).to_csv(\"./risultati/prova_super_test.csv\")\n"
   ]
  }
 ],
 "metadata": {
  "kernelspec": {
   "display_name": "Python 3 (ipykernel)",
   "language": "python",
   "name": "python3"
  },
  "language_info": {
   "codemirror_mode": {
    "name": "ipython",
    "version": 3
   },
   "file_extension": ".py",
   "mimetype": "text/x-python",
   "name": "python",
   "nbconvert_exporter": "python",
   "pygments_lexer": "ipython3",
   "version": "3.9.15"
  }
 },
 "nbformat": 4,
 "nbformat_minor": 5
}
