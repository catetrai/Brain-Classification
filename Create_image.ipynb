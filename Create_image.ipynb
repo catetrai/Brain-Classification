{
 "cells": [
  {
   "cell_type": "code",
   "execution_count": 1,
   "id": "530d3edb",
   "metadata": {
    "tags": []
   },
   "outputs": [],
   "source": [
    "import pydicom\n",
    "import os \n",
    "import numpy as np\n",
    "import pandas as pd\n",
    "import cv2 \n",
    "from tqdm import tqdm\n",
    "from PIL import Image\n",
    "import matplotlib.pyplot as plt"
   ]
  },
  {
   "cell_type": "markdown",
   "id": "c44c05c1-f482-4d6c-995e-bf7dc24bde14",
   "metadata": {},
   "source": [
    "Vado a costruire le liste dei path partendo dai CSV"
   ]
  },
  {
   "cell_type": "code",
   "execution_count": 2,
   "id": "880abab0-2d99-4e23-9bc5-b0a3ad19f041",
   "metadata": {
    "tags": []
   },
   "outputs": [],
   "source": [
    "ds = pd.read_csv(\"./pre_retrieve_100_accnum.csv\")\n",
    "ds = pd.read_csv(\"/mnt/databaseRICERCA_SDN/ONWAY/PACS/metadata/nonbrain_151_accnum.csv\",sep = \";\")\n",
    "true = ds.loc[ds[\"is_brain_manual\"] == True]\n",
    "false =ds.loc[ds[\"is_brain_manual\"] == False].dropna()\n",
    "true_path = [os.path.dirname(x) for x in list(true[\"dicom_images.0.file_path\"])]\n",
    "false_path = [os.path.dirname(x) for x in list(false[\"dicom_images.0.file_path\"])]\n",
    "\n",
    "\n",
    "def find_fetta_centrale(path):\n",
    "    fetta_centrale = list()\n",
    "    no_fetta_centrale = list()\n",
    "    for i in path  :\n",
    "        try :\n",
    "            fetta_centrale.append(os.path.join(i,(os.listdir(i))[1]))\n",
    "        except :\n",
    "            no_fetta_centrale.append(i)\n",
    "    return fetta_centrale,no_fetta_centrale\n",
    "                                    \n",
    "fetta_centrale_true,no_fetta_centrale_true = find_fetta_centrale(true_path)\n",
    "fetta_centrale_false,no_fetta_centrale_false = find_fetta_centrale(false_path)"
   ]
  },
  {
   "cell_type": "code",
   "execution_count": 3,
   "id": "8f987d69-d41c-4651-865f-7479b53fd98a",
   "metadata": {
    "tags": []
   },
   "outputs": [
    {
     "data": {
      "text/plain": [
       "'1.3.46.670589.11.17524.5.0.8876.2012010206340442000'"
      ]
     },
     "execution_count": 3,
     "metadata": {},
     "output_type": "execute_result"
    }
   ],
   "source": [
    "dc = pydicom.dcmread(fetta_centrale_true[0])\n",
    "dc.SeriesInstanceUID                 "
   ]
  },
  {
   "cell_type": "markdown",
   "id": "781fdfe2-0a41-4c63-8346-418a99a32238",
   "metadata": {
    "tags": []
   },
   "source": [
    "Converto le immagini da dicom a png, ogni immagine è rinominato con il nome della serie"
   ]
  },
  {
   "cell_type": "code",
   "execution_count": 5,
   "id": "8a3f8b44-c35d-4f23-9e10-f6e153584a26",
   "metadata": {
    "tags": []
   },
   "outputs": [
    {
     "data": {
      "text/plain": [
       "(560, 560)"
      ]
     },
     "execution_count": 5,
     "metadata": {},
     "output_type": "execute_result"
    }
   ],
   "source": []
  },
  {
   "cell_type": "code",
   "execution_count": null,
   "id": "d6bb4368-ba88-4b9f-97da-43e6d7ea6142",
   "metadata": {
    "tags": []
   },
   "outputs": [],
   "source": [
    "def dicom_png(path_image,path_save):\n",
    "    dc = pydicom.dcmread(path_image)\n",
    "    names  = os.path.join(path_save,(dc.SeriesInstanceUID + \".png\"))\n",
    "    plt.imsave(names, dc.pixel_array,cmap =\"gray\") \n",
    "path_save_true  = \"/mnt/databaseRICERCA_SDN/ONWAY/PACS/Classificazione/true/\"\n",
    "path_save_false = \"/mnt/databaseRICERCA_SDN/ONWAY/PACS/Classificazione/false/\"\n",
    "\n",
    "for path in tqdm(fetta_centrale_true) :\n",
    "    dicom_png(path,path_save_true)\n",
    "    \n",
    "for path in tqdm(fetta_centrale_false) :\n",
    "    dicom_png(path,path_save_false)"
   ]
  }
 ],
 "metadata": {
  "kernelspec": {
   "display_name": "Python 3 (ipykernel)",
   "language": "python",
   "name": "python3"
  },
  "language_info": {
   "codemirror_mode": {
    "name": "ipython",
    "version": 3
   },
   "file_extension": ".py",
   "mimetype": "text/x-python",
   "name": "python",
   "nbconvert_exporter": "python",
   "pygments_lexer": "ipython3",
   "version": "3.9.15"
  }
 },
 "nbformat": 4,
 "nbformat_minor": 5
}
